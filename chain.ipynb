{
 "cells": [
  {
   "cell_type": "code",
   "execution_count": 1,
   "id": "7e54657c",
   "metadata": {},
   "outputs": [],
   "source": [
    "#Chain in LangGraph"
   ]
  },
  {
   "cell_type": "code",
   "execution_count": 2,
   "id": "4081acc6",
   "metadata": {},
   "outputs": [],
   "source": [
    "from dotenv import load_dotenv\n",
    "load_dotenv()\n",
    "\n",
    "import os\n",
    "os.environ[\"GROQ_API_KEY\"] = os.getenv(\"GROQ_API_KEY\")"
   ]
  },
  {
   "cell_type": "code",
   "execution_count": 4,
   "id": "6e01f9d1",
   "metadata": {},
   "outputs": [
    {
     "name": "stdout",
     "output_type": "stream",
     "text": [
      "ai: Hello! How can I assist you today?\n",
      "human: Can you tell me a joke?\n",
      "ai: Sure! Why don't scientists trust atoms? Because they make up everything!\n"
     ]
    }
   ],
   "source": [
    "from langchain_core.messages import HumanMessage,AIMessage\n",
    "\n",
    "messages=[AIMessage(content=\"Hello! How can I assist you today?\"),\n",
    "          HumanMessage(content=\"Can you tell me a joke?\")]\n",
    "\n",
    "messages.append(AIMessage(content=\"Sure! Why don't scientists trust atoms? Because they make up everything!\"))\n",
    "\n",
    "for message in messages:\n",
    "    print(f\"{message.type}: {message.content}\")"
   ]
  },
  {
   "cell_type": "code",
   "execution_count": null,
   "id": "f4000589",
   "metadata": {},
   "outputs": [
    {
     "data": {
      "text/plain": [
       "AIMessage(content='Hello! 👋 How can I help you today?', additional_kwargs={'reasoning_content': 'We need to respond as ChatGPT. The user says \"hi\". We should greet. Possibly ask how can help.'}, response_metadata={'token_usage': {'completion_tokens': 45, 'prompt_tokens': 72, 'total_tokens': 117, 'completion_time': 0.040411726, 'prompt_time': 0.004657227, 'queue_time': 0.051908822, 'total_time': 0.045068953}, 'model_name': 'openai/gpt-oss-20b', 'system_fingerprint': 'fp_59f77feedf', 'service_tier': 'on_demand', 'finish_reason': 'stop', 'logprobs': None}, id='run--c7bd9fc4-5833-45ed-9dcb-c389d0d0dc3b-0', usage_metadata={'input_tokens': 72, 'output_tokens': 45, 'total_tokens': 117})"
      ]
     },
     "execution_count": 7,
     "metadata": {},
     "output_type": "execute_result"
    }
   ],
   "source": [
    "from langchain_groq   import ChatGroq\n",
    "llm = ChatGroq(model=\"openai/gpt-oss-20b\")\n",
    "llm.invoke(\"hi\")\n"
   ]
  },
  {
   "cell_type": "code",
   "execution_count": 8,
   "id": "358161bb",
   "metadata": {},
   "outputs": [],
   "source": [
    "def add(a:int,b:int)->int:\n",
    "    \"\"\"\n",
    "    Adds two numbers.\n",
    "    Args:\n",
    "        a (int): first number\n",
    "        b (int): second number\n",
    "    Returns:\n",
    "        int: sum of a and b\n",
    "    \"\"\"\n",
    "    return a+b  "
   ]
  },
  {
   "cell_type": "code",
   "execution_count": 10,
   "id": "3a749cb0",
   "metadata": {},
   "outputs": [],
   "source": [
    "llm=llm.bind_tools([add])"
   ]
  },
  {
   "cell_type": "code",
   "execution_count": 11,
   "id": "9b82f267",
   "metadata": {},
   "outputs": [
    {
     "data": {
      "text/plain": [
       "AIMessage(content='', additional_kwargs={'reasoning_content': 'We need to call the function add with a=2, b=3.', 'tool_calls': [{'id': 'fc_99ae8dfd-a7d9-4485-b5ad-83ad5cf01cc1', 'function': {'arguments': '{\"a\":2,\"b\":3}', 'name': 'add'}, 'type': 'function'}]}, response_metadata={'token_usage': {'completion_tokens': 43, 'prompt_tokens': 157, 'total_tokens': 200, 'completion_time': 0.038968746, 'prompt_time': 0.010270479, 'queue_time': 0.050338211, 'total_time': 0.049239225}, 'model_name': 'openai/gpt-oss-20b', 'system_fingerprint': 'fp_59f77feedf', 'service_tier': 'on_demand', 'finish_reason': 'tool_calls', 'logprobs': None}, id='run--472e7534-8266-4378-9148-0bdb93a23cee-0', tool_calls=[{'name': 'add', 'args': {'a': 2, 'b': 3}, 'id': 'fc_99ae8dfd-a7d9-4485-b5ad-83ad5cf01cc1', 'type': 'tool_call'}], usage_metadata={'input_tokens': 157, 'output_tokens': 43, 'total_tokens': 200})"
      ]
     },
     "execution_count": 11,
     "metadata": {},
     "output_type": "execute_result"
    }
   ],
   "source": [
    "llm.invoke(\"add 2 and 3\")"
   ]
  },
  {
   "cell_type": "code",
   "execution_count": null,
   "id": "642191d5",
   "metadata": {},
   "outputs": [],
   "source": []
  }
 ],
 "metadata": {
  "kernelspec": {
   "display_name": ".venv",
   "language": "python",
   "name": "python3"
  },
  "language_info": {
   "codemirror_mode": {
    "name": "ipython",
    "version": 3
   },
   "file_extension": ".py",
   "mimetype": "text/x-python",
   "name": "python",
   "nbconvert_exporter": "python",
   "pygments_lexer": "ipython3",
   "version": "3.11.4"
  }
 },
 "nbformat": 4,
 "nbformat_minor": 5
}
