{
 "cells": [
  {
   "cell_type": "code",
   "execution_count": 1,
   "id": "7e54657c",
   "metadata": {},
   "outputs": [],
   "source": [
    "#Chain in LangGraph"
   ]
  },
  {
   "cell_type": "code",
   "execution_count": 2,
   "id": "4081acc6",
   "metadata": {},
   "outputs": [],
   "source": [
    "from dotenv import load_dotenv\n",
    "load_dotenv()\n",
    "\n",
    "import os\n",
    "os.environ[\"GROQ_API_KEY\"] = os.getenv(\"GROQ_API_KEY\")"
   ]
  },
  {
   "cell_type": "code",
   "execution_count": 3,
   "id": "6e01f9d1",
   "metadata": {},
   "outputs": [
    {
     "name": "stdout",
     "output_type": "stream",
     "text": [
      "ai: Hello! How can I assist you today?\n",
      "human: Can you tell me a joke?\n",
      "ai: Sure! Why don't scientists trust atoms? Because they make up everything!\n"
     ]
    }
   ],
   "source": [
    "from langchain_core.messages import HumanMessage,AIMessage\n",
    "\n",
    "messages=[AIMessage(content=\"Hello! How can I assist you today?\"),\n",
    "          HumanMessage(content=\"Can you tell me a joke?\")]\n",
    "\n",
    "messages.append(AIMessage(content=\"Sure! Why don't scientists trust atoms? Because they make up everything!\"))\n",
    "\n",
    "for message in messages:\n",
    "    print(f\"{message.type}: {message.content}\")"
   ]
  },
  {
   "cell_type": "code",
   "execution_count": 4,
   "id": "f4000589",
   "metadata": {},
   "outputs": [
    {
     "data": {
      "text/plain": [
       "AIMessage(content='Hello! 👋 How can I help you today?', additional_kwargs={'reasoning_content': 'The user says \"hi\". We should respond politely. Probably \"Hello! How can I help you today?\"'}, response_metadata={'token_usage': {'completion_tokens': 43, 'prompt_tokens': 72, 'total_tokens': 115, 'completion_time': 0.03824696, 'prompt_time': 0.004696397, 'queue_time': 0.053254983, 'total_time': 0.042943357}, 'model_name': 'openai/gpt-oss-20b', 'system_fingerprint': 'fp_ebaf47239f', 'service_tier': 'on_demand', 'finish_reason': 'stop', 'logprobs': None}, id='run--26ddcdd1-558b-46b5-afd6-0579b3875efc-0', usage_metadata={'input_tokens': 72, 'output_tokens': 43, 'total_tokens': 115})"
      ]
     },
     "execution_count": 4,
     "metadata": {},
     "output_type": "execute_result"
    }
   ],
   "source": [
    "from langchain_groq   import ChatGroq\n",
    "llm = ChatGroq(model=\"openai/gpt-oss-20b\")\n",
    "llm.invoke(\"hi\")\n"
   ]
  },
  {
   "cell_type": "code",
   "execution_count": 5,
   "id": "358161bb",
   "metadata": {},
   "outputs": [],
   "source": [
    "def add(a:int,b:int)->int:\n",
    "    \"\"\"\n",
    "    Adds two numbers.\n",
    "    Args:\n",
    "        a (int): first number\n",
    "        b (int): second number\n",
    "    Returns:\n",
    "        int: sum of a and b\n",
    "    \"\"\"\n",
    "    return a+b  "
   ]
  },
  {
   "cell_type": "code",
   "execution_count": 6,
   "id": "3a749cb0",
   "metadata": {},
   "outputs": [],
   "source": [
    "llm=llm.bind_tools([add])"
   ]
  },
  {
   "cell_type": "code",
   "execution_count": 7,
   "id": "9b82f267",
   "metadata": {},
   "outputs": [
    {
     "data": {
      "text/plain": [
       "AIMessage(content='', additional_kwargs={'reasoning_content': 'We need to call the function.', 'tool_calls': [{'id': 'fc_553b86b3-9fed-4666-983f-0eb16aac7f66', 'function': {'arguments': '{\"a\":2,\"b\":3}', 'name': 'add'}, 'type': 'function'}]}, response_metadata={'token_usage': {'completion_tokens': 34, 'prompt_tokens': 157, 'total_tokens': 191, 'completion_time': 0.030356495, 'prompt_time': 0.010215375, 'queue_time': 0.046146115, 'total_time': 0.04057187}, 'model_name': 'openai/gpt-oss-20b', 'system_fingerprint': 'fp_4c4aa6a4a4', 'service_tier': 'on_demand', 'finish_reason': 'tool_calls', 'logprobs': None}, id='run--ce491d16-52fb-400c-8761-856fcac4ffbb-0', tool_calls=[{'name': 'add', 'args': {'a': 2, 'b': 3}, 'id': 'fc_553b86b3-9fed-4666-983f-0eb16aac7f66', 'type': 'tool_call'}], usage_metadata={'input_tokens': 157, 'output_tokens': 34, 'total_tokens': 191})"
      ]
     },
     "execution_count": 7,
     "metadata": {},
     "output_type": "execute_result"
    }
   ],
   "source": [
    "llm.invoke(\"add 2 and 3\")"
   ]
  },
  {
   "cell_type": "code",
   "execution_count": null,
   "id": "642191d5",
   "metadata": {},
   "outputs": [],
   "source": []
  },
  {
   "cell_type": "code",
   "execution_count": null,
   "id": "2cfd325a",
   "metadata": {},
   "outputs": [
    {
     "data": {
      "text/plain": [
       "{'messages': [HumanMessage(content='what is 2 + 2', additional_kwargs={}, response_metadata={}, id='539fbd04-ddd4-4ad6-b766-571390fda434'),\n",
       "  AIMessage(content='', additional_kwargs={'reasoning_content': 'We need to compute 2+2. Use function add.', 'tool_calls': [{'id': 'fc_4ccc363c-d7f1-4e0c-9693-aa515ef3e9a3', 'function': {'arguments': '{\"a\":2,\"b\":2}', 'name': 'add'}, 'type': 'function'}]}, response_metadata={'token_usage': {'completion_tokens': 40, 'prompt_tokens': 158, 'total_tokens': 198, 'completion_time': 0.035698677, 'prompt_time': 0.010288077, 'queue_time': 0.046020953, 'total_time': 0.045986754}, 'model_name': 'openai/gpt-oss-20b', 'system_fingerprint': 'fp_ebaf47239f', 'service_tier': 'on_demand', 'finish_reason': 'tool_calls', 'logprobs': None}, id='run--212e24b2-f7ca-4b41-819f-fd2af47a9c1f-0', tool_calls=[{'name': 'add', 'args': {'a': 2, 'b': 2}, 'id': 'fc_4ccc363c-d7f1-4e0c-9693-aa515ef3e9a3', 'type': 'tool_call'}], usage_metadata={'input_tokens': 158, 'output_tokens': 40, 'total_tokens': 198})]}"
      ]
     },
     "execution_count": 31,
     "metadata": {},
     "output_type": "execute_result"
    }
   ],
   "source": [
    "from typing_extensions import TypedDict\n",
    "from langchain_core.messages import AnyMessage\n",
    "from langgraph.graph.message import add_messages\n",
    "from typing import Annotated\n",
    "class State(TypedDict):\n",
    "    messages: Annotated[list[AnyMessage],add_messages]\n",
    "    \n",
    "\n",
    "def llm_tool(state:State):\n",
    "    return {\"messages\":[llm.invoke(state[\"messages\"])]}\n",
    "\n",
    "\n",
    "\n",
    "from IPython.display import display, Image\n",
    "from langgraph.graph import StateGraph, START, END\n",
    "    \n",
    "builder=StateGraph(State)\n",
    "\n",
    "builder.add_node(\"llm_tool\",llm_tool)\n",
    "builder.add_edge(START,\"llm_tool\")\n",
    "\n",
    "graph=builder.compile()\n",
    "\n",
    "graph.invoke({\"messages\": \"what is 2 + 2\"})"
   ]
  },
  {
   "cell_type": "code",
   "execution_count": 35,
   "id": "5436e2a1",
   "metadata": {},
   "outputs": [],
   "source": [
    "from langgraph.prebuilt import ToolNode\n",
    "from langgraph.prebuilt import tools_condition\n",
    "\n",
    "tools=[add]\n",
    "\n",
    "builder=StateGraph(State)\n",
    "\n",
    "builder.add_node(\"llm_tool\",llm_tool)\n",
    "\n",
    "builder.add_node(\"tools\",ToolNode(tools))\n",
    "builder.add_edge(START,\"llm_tool\")\n",
    "builder.add_conditional_edges(\n",
    "\"llm_tool\",\n",
    "\n",
    "tools_condition\n",
    "\n",
    "\n",
    ")\n",
    "builder.add_edge(\"tools\",END)\n",
    "graph=builder.compile()\n",
    "\n"
   ]
  },
  {
   "cell_type": "code",
   "execution_count": 36,
   "id": "0318bdf1",
   "metadata": {},
   "outputs": [
    {
     "data": {
      "image/png": "[encoded data removed]",
      "text/plain": [
       "<IPython.core.display.Image object>"
      ]
     },
     "metadata": {},
     "output_type": "display_data"
    }
   ],
   "source": [
    "display(Image(graph.get_graph().draw_mermaid_png()))"
   ]
  },
  {
   "cell_type": "code",
   "execution_count": 41,
   "id": "9ab70ea6",
   "metadata": {},
   "outputs": [
    {
     "data": {
      "text/plain": [
       "{'messages': [HumanMessage(content='what is 2+2', additional_kwargs={}, response_metadata={}, id='96997a6f-fbbb-42a6-8756-c95b233e703b'),\n",
       "  AIMessage(content='', additional_kwargs={'reasoning_content': 'User asks \"what is 2+2\". We need to use the add function.', 'tool_calls': [{'id': 'fc_f458168e-77ee-4a6f-9c1f-147982ee017c', 'function': {'arguments': '{\"a\":2,\"b\":2}', 'name': 'add'}, 'type': 'function'}]}, response_metadata={'token_usage': {'completion_tokens': 45, 'prompt_tokens': 157, 'total_tokens': 202, 'completion_time': 0.040656066, 'prompt_time': 0.011901283, 'queue_time': 0.047694677, 'total_time': 0.052557349}, 'model_name': 'openai/gpt-oss-20b', 'system_fingerprint': 'fp_ebaf47239f', 'service_tier': 'on_demand', 'finish_reason': 'tool_calls', 'logprobs': None}, id='run--6eca0f74-9fb8-4dde-8cf2-4b578b00772a-0', tool_calls=[{'name': 'add', 'args': {'a': 2, 'b': 2}, 'id': 'fc_f458168e-77ee-4a6f-9c1f-147982ee017c', 'type': 'tool_call'}], usage_metadata={'input_tokens': 157, 'output_tokens': 45, 'total_tokens': 202}),\n",
       "  ToolMessage(content='4', name='add', id='8384ad72-419d-4ae0-9436-46c6035eb14a', tool_call_id='fc_f458168e-77ee-4a6f-9c1f-147982ee017c')]}"
      ]
     },
     "execution_count": 41,
     "metadata": {},
     "output_type": "execute_result"
    }
   ],
   "source": [
    "graph.invoke({'messages':\"what is 2+2\"} )"
   ]
  },
  {
   "cell_type": "code",
   "execution_count": null,
   "id": "3852aae1",
   "metadata": {},
   "outputs": [
    {
     "data": {
      "text/plain": [
       "{'message': [HumanMessage(content='2=2', additional_kwargs={}, response_metadata={}, id='d8176fbc-d88b-4d3e-b788-c153022bcef8')]}"
      ]
     },
     "execution_count": 20,
     "metadata": {},
     "output_type": "execute_result"
    }
   ],
   "source": []
  }
 ],
 "metadata": {
  "kernelspec": {
   "display_name": ".venv",
   "language": "python",
   "name": "python3"
  },
  "language_info": {
   "codemirror_mode": {
    "name": "ipython",
    "version": 3
   },
   "file_extension": ".py",
   "mimetype": "text/x-python",
   "name": "python",
   "nbconvert_exporter": "python",
   "pygments_lexer": "ipython3",
   "version": "3.11.4"
  }
 },
 "nbformat": 4,
 "nbformat_minor": 5
}
