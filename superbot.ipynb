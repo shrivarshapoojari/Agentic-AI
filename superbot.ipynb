{
 "cells": [
  {
   "cell_type": "code",
   "execution_count": 2,
   "id": "42cfb252",
   "metadata": {},
   "outputs": [],
   "source": [
    "from typing_extensions  import TypedDict\n",
    "from langgraph.graph  import  StateGraph,START,END\n",
    "\n",
    "from typing import Annotated\n",
    "from langgraph.graph.message import add_messages"
   ]
  },
  {
   "cell_type": "code",
   "execution_count": 4,
   "id": "e892b040",
   "metadata": {},
   "outputs": [],
   "source": [
    "import os\n",
    "from dotenv import load_dotenv\n",
    "load_dotenv()\n",
    "\n",
    "os.environ[\"OPENAI_API_KEY\"] = os.getenv(\"OPENAI_API_KEY\")\n",
    "os.environ[\"GROQ_API_KEY\"] = os.getenv(\"GROQ_API_KEY\")"
   ]
  },
  {
   "cell_type": "code",
   "execution_count": 3,
   "id": "2419c7fb",
   "metadata": {},
   "outputs": [],
   "source": [
    "class State(TypedDict):\n",
    "    messages:Annotated[list,add_messages]\n",
    "    "
   ]
  },
  {
   "cell_type": "code",
   "execution_count": 12,
   "id": "4488114f",
   "metadata": {},
   "outputs": [
    {
     "data": {
      "text/plain": [
       "AIMessage(content='Hello! 👋 How can I help you today?', additional_kwargs={'reasoning_content': 'The user says \"hi\". They are greeting. We should respond politely. Probably ask how can help.'}, response_metadata={'token_usage': {'completion_tokens': 42, 'prompt_tokens': 72, 'total_tokens': 114, 'completion_time': 0.037734322, 'prompt_time': 0.004607575, 'queue_time': 0.047231725, 'total_time': 0.042341897}, 'model_name': 'openai/gpt-oss-20b', 'system_fingerprint': 'fp_59f77feedf', 'service_tier': 'on_demand', 'finish_reason': 'stop', 'logprobs': None}, id='run--8ff3eacc-887e-43a6-a7d6-9564ec5273f2-0', usage_metadata={'input_tokens': 72, 'output_tokens': 42, 'total_tokens': 114})"
      ]
     },
     "execution_count": 12,
     "metadata": {},
     "output_type": "execute_result"
    }
   ],
   "source": [
    "from langchain_groq import ChatGroq\n",
    "from IPython.display import Image, display\n",
    "\n",
    "llm_groq=ChatGroq(model=\"openai/gpt-oss-20b\")\n",
    "\n",
    "\n",
    "llm_groq.invoke(\"hi\")"
   ]
  },
  {
   "cell_type": "code",
   "execution_count": 11,
   "id": "d116208f",
   "metadata": {},
   "outputs": [],
   "source": [
    "def superbot(state:State):\n",
    "    messages=state['messages']\n",
    "    response=llm_groq.invoke(messages)\n",
    "    return {messages:response}"
   ]
  },
  {
   "cell_type": "code",
   "execution_count": 13,
   "id": "c36d6771",
   "metadata": {},
   "outputs": [
    {
     "data": {
      "image/png": "[encoded data removed]",
      "text/plain": [
       "<IPython.core.display.Image object>"
      ]
     },
     "metadata": {},
     "output_type": "display_data"
    }
   ],
   "source": [
    "graph=StateGraph(State)\n",
    "graph.add_node(\"superbot\",superbot)\n",
    "graph.add_edge(START,\"superbot\")\n",
    "graph.add_edge(\"superbot\",END)\n",
    "graph_builder=graph.compile()\n",
    "display(Image(graph_builder.get_graph().draw_mermaid_png()))"
   ]
  },
  {
   "cell_type": "code",
   "execution_count": null,
   "id": "f887cdc1",
   "metadata": {},
   "outputs": [],
   "source": []
  },
  {
   "cell_type": "code",
   "execution_count": null,
   "id": "c99ebeaf",
   "metadata": {},
   "outputs": [],
   "source": []
  },
  {
   "cell_type": "code",
   "execution_count": null,
   "id": "26c556b3",
   "metadata": {},
   "outputs": [],
   "source": []
  },
  {
   "cell_type": "code",
   "execution_count": null,
   "id": "b66d9f6a",
   "metadata": {},
   "outputs": [],
   "source": []
  },
  {
   "cell_type": "code",
   "execution_count": null,
   "id": "8a25ad87",
   "metadata": {},
   "outputs": [],
   "source": []
  },
  {
   "cell_type": "code",
   "execution_count": null,
   "id": "2daede22",
   "metadata": {},
   "outputs": [],
   "source": []
  },
  {
   "cell_type": "code",
   "execution_count": null,
   "id": "da729d9b",
   "metadata": {},
   "outputs": [],
   "source": []
  },
  {
   "cell_type": "code",
   "execution_count": null,
   "id": "2330514a",
   "metadata": {},
   "outputs": [
    {
     "name": "stdout",
     "output_type": "stream",
     "text": [
      "hi\n"
     ]
    }
   ],
   "source": [
    " "
   ]
  }
 ],
 "metadata": {
  "kernelspec": {
   "display_name": ".venv",
   "language": "python",
   "name": "python3"
  },
  "language_info": {
   "codemirror_mode": {
    "name": "ipython",
    "version": 3
   },
   "file_extension": ".py",
   "mimetype": "text/x-python",
   "name": "python",
   "nbconvert_exporter": "python",
   "pygments_lexer": "ipython3",
   "version": "3.11.4"
  }
 },
 "nbformat": 4,
 "nbformat_minor": 5
}
