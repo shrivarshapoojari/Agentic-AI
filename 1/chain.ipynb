{
 "cells": [
  {
   "cell_type": "code",
   "execution_count": 1,
   "id": "7e54657c",
   "metadata": {},
   "outputs": [],
   "source": [
    "#Chain in LangGraph"
   ]
  },
  {
   "cell_type": "code",
   "execution_count": 52,
   "id": "4081acc6",
   "metadata": {},
   "outputs": [],
   "source": [
    "from dotenv import load_dotenv\n",
    "load_dotenv()\n",
    "\n",
    "import os\n",
    "os.environ[\"GROQ_API_KEY\"] = os.getenv(\"GROQ_API_KEY\")"
   ]
  },
  {
   "cell_type": "code",
   "execution_count": 53,
   "id": "6e01f9d1",
   "metadata": {},
   "outputs": [
    {
     "name": "stdout",
     "output_type": "stream",
     "text": [
      "ai: Hello! How can I assist you today?\n",
      "human: Can you tell me a joke?\n",
      "ai: Sure! Why don't scientists trust atoms? Because they make up everything!\n"
     ]
    }
   ],
   "source": [
    "from langchain_core.messages import HumanMessage,AIMessage\n",
    "\n",
    "messages=[AIMessage(content=\"Hello! How can I assist you today?\"),\n",
    "          HumanMessage(content=\"Can you tell me a joke?\")]\n",
    "\n",
    "messages.append(AIMessage(content=\"Sure! Why don't scientists trust atoms? Because they make up everything!\"))\n",
    "\n",
    "for message in messages:\n",
    "    print(f\"{message.type}: {message.content}\")"
   ]
  },
  {
   "cell_type": "code",
   "execution_count": 54,
   "id": "f4000589",
   "metadata": {},
   "outputs": [
    {
     "data": {
      "text/plain": [
       "AIMessage(content='Hello! 👋 How can I help you today?', additional_kwargs={'reasoning_content': 'The user says \"hi\". We should respond politely. Probably just greet.'}, response_metadata={'token_usage': {'completion_tokens': 36, 'prompt_tokens': 72, 'total_tokens': 108, 'completion_time': 0.032499864, 'prompt_time': 0.004642308, 'queue_time': 0.052491062, 'total_time': 0.037142172}, 'model_name': 'openai/gpt-oss-20b', 'system_fingerprint': 'fp_b30a5b183c', 'service_tier': 'on_demand', 'finish_reason': 'stop', 'logprobs': None}, id='run--bd66de3b-4ef6-4d2f-b948-777a650ce6c9-0', usage_metadata={'input_tokens': 72, 'output_tokens': 36, 'total_tokens': 108})"
      ]
     },
     "execution_count": 54,
     "metadata": {},
     "output_type": "execute_result"
    }
   ],
   "source": [
    "from langchain_groq   import ChatGroq\n",
    "llm = ChatGroq(model=\"openai/gpt-oss-20b\")\n",
    "llm.invoke(\"hi\")\n"
   ]
  },
  {
   "cell_type": "code",
   "execution_count": 64,
   "id": "adb2f0c1",
   "metadata": {},
   "outputs": [],
   "source": [
    "def add(a: int, b: int) -> int:\n",
    "    \"\"\"\n",
    "    Adds two numbers.\n",
    "    Args:\n",
    "        a (int): The first number.\n",
    "        b (int): The second number.\n",
    "    Returns:\n",
    "        int: The sum of a and b.\n",
    "    Example:\n",
    "        add(2, 3) -> 5\n",
    "    \"\"\"\n",
    "    return a + b\n",
    "\n",
    "def subtract(a: int, b: int) -> int:\n",
    "    \"\"\"\n",
    "    Subtracts b from a.\n",
    "    Args:\n",
    "        a (int): The number to subtract from.\n",
    "        b (int): The number to subtract.\n",
    "    Returns:\n",
    "        int: The result of a - b.\n",
    "    Example:\n",
    "        subtract(5, 2) -> 3\n",
    "    \"\"\"\n",
    "    return a - b\n",
    "\n",
    "def multiply(a: int, b: int) -> int:\n",
    "    \"\"\"\n",
    "    Multiplies two numbers.\n",
    "    Args:\n",
    "        a (int): The first number.\n",
    "        b (int): The second number.\n",
    "    Returns:\n",
    "        int: The product of a and b.\n",
    "    Example:\n",
    "        multiply(4, 3) -> 12\n",
    "    \"\"\"\n",
    "    return a * b\n",
    "\n",
    "def divide(a: int, b: int) -> float:\n",
    "    \"\"\"\n",
    "    Divides a by b.\n",
    "    Args:\n",
    "        a (int): The numerator.\n",
    "        b (int): The denominator.\n",
    "    Returns:\n",
    "        float: The result of a / b.\n",
    "    Raises:\n",
    "        ZeroDivisionError: If b is zero.\n",
    "    Example:\n",
    "        divide(10, 2) -> 5.0\n",
    "    \"\"\"\n",
    "    return a / b\n",
    "\n",
    "def modulus(a: int, b: int) -> int:\n",
    "    \"\"\"\n",
    "    Returns the remainder of a divided by b.\n",
    "    Args:\n",
    "        a (int): The dividend.\n",
    "        b (int): The divisor.\n",
    "    Returns:\n",
    "        int: The remainder after division.\n",
    "    Example:\n",
    "        modulus(10, 3) -> 1\n",
    "    \"\"\"\n",
    "    return a % b\n",
    "\n",
    "def power(a: int, b: int) -> int:\n",
    "    \"\"\"\n",
    "    Raises a to the power of b.\n",
    "    Args:\n",
    "        a (int): The base number.\n",
    "        b (int): The exponent.\n",
    "    Returns:\n",
    "        int: The result of a ** b.\n",
    "    Example:\n",
    "        power(2, 3) -> 8\n",
    "    \"\"\"\n",
    "    return a ** b\n",
    "\n",
    "def floor_divide(a: int, b: int) -> int:\n",
    "    \"\"\"\n",
    "    Performs floor division on a and b.\n",
    "    Args:\n",
    "        a (int): The numerator.\n",
    "        b (int): The denominator.\n",
    "    Returns:\n",
    "        int: The result of a // b.\n",
    "    Example:\n",
    "        floor_divide(7, 2) -> 3\n",
    "    \"\"\"\n",
    "    return a // b\n",
    "\n",
    "def maximum(a: int, b: int) -> int:\n",
    "    \"\"\"\n",
    "    Returns the maximum of a and b.\n",
    "    Args:\n",
    "        a (int): The first number.\n",
    "        b (int): The second number.\n",
    "    Returns:\n",
    "        int: The larger of a and b.\n",
    "    Example:\n",
    "        maximum(4, 9) -> 9\n",
    "    \"\"\"\n",
    "    return max(a, b)\n",
    "\n",
    "def minimum(a: int, b: int) -> int:\n",
    "    \"\"\"\n",
    "    Returns the minimum of a and b.\n",
    "    Args:\n",
    "        a (int): The first number.\n",
    "        b (int): The second number.\n",
    "    Returns:\n",
    "        int: The smaller of a and b.\n",
    "    Example:\n",
    "        minimum(4, 9) -> 4\n",
    "    \"\"\"\n",
    "    return min(a, b)\n",
    "\n",
    "def average(a: int, b: int) -> float:\n",
    "    \"\"\"\n",
    "    Returns the average of a and b.\n",
    "    Args:\n",
    "        a (int): The first number.\n",
    "        b (int): The second number.\n",
    "    Returns:\n",
    "        float: The average value.\n",
    "    Example:\n",
    "        average(4, 8) -> 6.0\n",
    "    \"\"\"\n",
    "    return (a + b) / 2"
   ]
  },
  {
   "cell_type": "code",
   "execution_count": 65,
   "id": "3a749cb0",
   "metadata": {},
   "outputs": [],
   "source": [
    "llm=llm.bind_tools([add, subtract, multiply, divide, modulus, power, floor_divide, maximum, minimum, average])"
   ]
  },
  {
   "cell_type": "code",
   "execution_count": 47,
   "id": "642191d5",
   "metadata": {},
   "outputs": [
    {
     "data": {
      "text/plain": [
       "AIMessage(content='', additional_kwargs={'reasoning_content': 'User wants to add 2 and 3. We have a function add.', 'tool_calls': [{'id': 'fc_ff0a2bdd-577c-42fc-a87f-fea87f6a8050', 'function': {'arguments': '{\"a\":2,\"b\":3}', 'name': 'add'}, 'type': 'function'}]}, response_metadata={'token_usage': {'completion_tokens': 43, 'prompt_tokens': 358, 'total_tokens': 401, 'completion_time': 0.03840157, 'prompt_time': 0.023359646, 'queue_time': 0.051841354, 'total_time': 0.061761216}, 'model_name': 'openai/gpt-oss-20b', 'system_fingerprint': 'fp_b30a5b183c', 'service_tier': 'on_demand', 'finish_reason': 'tool_calls', 'logprobs': None}, id='run--01927564-cd7d-4a54-8c29-d675cd3c38bf-0', tool_calls=[{'name': 'add', 'args': {'a': 2, 'b': 3}, 'id': 'fc_ff0a2bdd-577c-42fc-a87f-fea87f6a8050', 'type': 'tool_call'}], usage_metadata={'input_tokens': 358, 'output_tokens': 43, 'total_tokens': 401})"
      ]
     },
     "execution_count": 47,
     "metadata": {},
     "output_type": "execute_result"
    }
   ],
   "source": [
    "llm.invoke(\"add 2 and 3\")"
   ]
  },
  {
   "cell_type": "code",
   "execution_count": 67,
   "id": "5436e2a1",
   "metadata": {},
   "outputs": [],
   "source": [
    "from langgraph.prebuilt import ToolNode\n",
    "from langgraph.prebuilt import tools_condition\n",
    " \n",
    "tools=[add, subtract, multiply, divide, modulus, power, floor_divide, maximum, minimum, average]\n",
    "\n",
    "builder=StateGraph(State)\n",
    "\n",
    "builder.add_node(\"llm_tool\",llm_tool)\n",
    "\n",
    "builder.add_node(\"tools\",ToolNode(tools))\n",
    "builder.add_edge(START,\"llm_tool\")\n",
    "builder.add_conditional_edges(\n",
    "\"llm_tool\",\n",
    "\n",
    "tools_condition\n",
    "\n",
    "\n",
    ")\n",
    "builder.add_edge(\"tools\",END)\n",
    "graph=builder.compile()\n",
    "\n"
   ]
  },
  {
   "cell_type": "code",
   "execution_count": 68,
   "id": "0318bdf1",
   "metadata": {},
   "outputs": [
    {
     "data": {
      "image/png": "[encoded data removed]",
      "text/plain": [
       "<IPython.core.display.Image object>"
      ]
     },
     "metadata": {},
     "output_type": "display_data"
    }
   ],
   "source": [
    "display(Image(graph.get_graph().draw_mermaid_png()))"
   ]
  },
  {
   "cell_type": "code",
   "execution_count": 72,
   "id": "3852aae1",
   "metadata": {},
   "outputs": [
    {
     "data": {
      "text/plain": [
       "{'messages': [HumanMessage(content='what is 2***2', additional_kwargs={}, response_metadata={}, id='764c2126-a4e6-444f-a9e4-60c2f9d6004f'),\n",
       "  AIMessage(content='It looks like there might be a typo in your expression. Did you mean to calculate \\\\(2^{3^{2}}\\\\) (i.e.,\\u202f`2**3**2`) or something else? Let me know the exact expression you’d like evaluated, and I’ll compute it for you.', additional_kwargs={'reasoning_content': 'User asks: \"what is 2***2\". They probably mean 2**3**2? Actually \"2***2\" could be ambiguous. In many languages, \"**\" is exponentiation. \"2***2\" could be 2 ** * * 2? Maybe they meant 2**3**2? But they wrote 2***2. That could be interpreted as 2 * * * 2? Or 2^3^2? Possibly they want to compute 2**3**2. But the question is ambiguous. Could be a typo: \"2***2\" means 2 * 3 * 2? That\\'s 12. Or maybe they want 2**3**2 = 2^(3^2)=2^9=512. Or maybe it\\'s 2**3**2? But they wrote 2***2. Could be 2 * * * 2? Usually exponent operator is **. So 2***2 might be 2**3**2? Actually if you put three asterisks, it\\'s ambiguous: 2***2 could be parsed as (2**) * 2? But 2** is incomplete. So likely it\\'s a mistake. I think they want 2**3**2? But they wrote 2***2. Maybe they want to calculate 2**3**2. Let\\'s ask for clarification. But we could also respond: \"It seems like a typo. Did you mean 2**3**2?\" Probably best to ask.'}, response_metadata={'token_usage': {'completion_tokens': 384, 'prompt_tokens': 827, 'total_tokens': 1211, 'completion_time': 0.343160279, 'prompt_time': 0.05439394, 'queue_time': 0.05326908, 'total_time': 0.397554219}, 'model_name': 'openai/gpt-oss-20b', 'system_fingerprint': 'fp_59f77feedf', 'service_tier': 'on_demand', 'finish_reason': 'stop', 'logprobs': None}, id='run--af4c9206-a0e7-4892-9455-7189cc1a0e76-0', usage_metadata={'input_tokens': 827, 'output_tokens': 384, 'total_tokens': 1211})]}"
      ]
     },
     "execution_count": 72,
     "metadata": {},
     "output_type": "execute_result"
    }
   ],
   "source": [
    "graph.invoke({'messages':\"what is 2***2\"} )"
   ]
  },
  {
   "cell_type": "code",
   "execution_count": null,
   "id": "3852aae1",
   "metadata": {},
   "outputs": [
    {
     "data": {
      "text/plain": [
       "{'message': [HumanMessage(content='2=2', additional_kwargs={}, response_metadata={}, id='d8176fbc-d88b-4d3e-b788-c153022bcef8')]}"
      ]
     },
     "execution_count": 20,
     "metadata": {},
     "output_type": "execute_result"
    }
   ],
   "source": []
  }
 ],
 "metadata": {
  "kernelspec": {
   "display_name": ".venv",
   "language": "python",
   "name": "python3"
  },
  "language_info": {
   "codemirror_mode": {
    "name": "ipython",
    "version": 3
   },
   "file_extension": ".py",
   "mimetype": "text/x-python",
   "name": "python",
   "nbconvert_exporter": "python",
   "pygments_lexer": "ipython3",
   "version": "3.11.4"
  }
 },
 "nbformat": 4,
 "nbformat_minor": 5
}
