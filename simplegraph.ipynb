{
 "cells": [
  {
   "cell_type": "code",
   "execution_count": 4,
   "id": "48e5ad7b",
   "metadata": {},
   "outputs": [],
   "source": [
    "from typing_extensions  import TypedDict\n",
    "\n",
    "class State(TypedDict):\n",
    "    graph_info:str\n",
    "    \n"
   ]
  },
  {
   "cell_type": "code",
   "execution_count": 5,
   "id": "71943d99",
   "metadata": {},
   "outputs": [],
   "source": [
    "def start_play(state:State):\n",
    "    print (\"Starting play with graph info:\", state['graph_info'])\n",
    "    return {\"graph_info\": state['graph_info'] +\"Im plannig to play\"}\n",
    "\n",
    "def cricket(state:State):\n",
    "    print (\"Playing cricket with graph info:\", state['graph_info'])\n",
    "    return {\"graph_info\": state['graph_info'] +\"I played cricket\"}\n",
    "\n",
    "def football(state:State):\n",
    "    print (\"Playing football with graph info:\", state['graph_info'])\n",
    "    return {\"graph_info\": state['graph_info'] +\"I played football\"}"
   ]
  },
  {
   "cell_type": "code",
   "execution_count": 6,
   "id": "72716c9a",
   "metadata": {},
   "outputs": [],
   "source": [
    "import random\n",
    "from typing import Literal\n",
    "\n",
    "def random_play(state:State)-> Literal['cricket','football']:\n",
    "\n",
    "    graph_info=state['graph_info']\n",
    "    if random.random()>0.5:\n",
    "        return \"cricket\"\n",
    "    else:\n",
    "        return \"football\""
   ]
  },
  {
   "cell_type": "code",
   "execution_count": null,
   "id": "58f53c33",
   "metadata": {},
   "outputs": [
    {
     "name": "stdout",
     "output_type": "stream",
     "text": [
      "Requirement already satisfied: IPython in d:\\agentic ai\\.venv\\lib\\site-packages (9.5.0)\n",
      "Requirement already satisfied: colorama in d:\\agentic ai\\.venv\\lib\\site-packages (from IPython) (0.4.6)\n",
      "Requirement already satisfied: decorator in d:\\agentic ai\\.venv\\lib\\site-packages (from IPython) (5.2.1)\n",
      "Requirement already satisfied: ipython-pygments-lexers in d:\\agentic ai\\.venv\\lib\\site-packages (from IPython) (1.1.1)\n",
      "Requirement already satisfied: jedi>=0.16 in d:\\agentic ai\\.venv\\lib\\site-packages (from IPython) (0.19.2)\n",
      "Requirement already satisfied: matplotlib-inline in d:\\agentic ai\\.venv\\lib\\site-packages (from IPython) (0.1.7)\n",
      "Requirement already satisfied: prompt_toolkit<3.1.0,>=3.0.41 in d:\\agentic ai\\.venv\\lib\\site-packages (from IPython) (3.0.52)\n",
      "Requirement already satisfied: pygments>=2.4.0 in d:\\agentic ai\\.venv\\lib\\site-packages (from IPython) (2.19.2)\n",
      "Requirement already satisfied: stack_data in d:\\agentic ai\\.venv\\lib\\site-packages (from IPython) (0.6.3)\n",
      "Requirement already satisfied: traitlets>=5.13.0 in d:\\agentic ai\\.venv\\lib\\site-packages (from IPython) (5.14.3)\n",
      "Requirement already satisfied: typing_extensions>=4.6 in d:\\agentic ai\\.venv\\lib\\site-packages (from IPython) (4.15.0)\n",
      "Requirement already satisfied: parso<0.9.0,>=0.8.4 in d:\\agentic ai\\.venv\\lib\\site-packages (from jedi>=0.16->IPython) (0.8.5)\n",
      "Requirement already satisfied: wcwidth in d:\\agentic ai\\.venv\\lib\\site-packages (from prompt_toolkit<3.1.0,>=3.0.41->IPython) (0.2.13)\n",
      "Requirement already satisfied: executing>=1.2.0 in d:\\agentic ai\\.venv\\lib\\site-packages (from stack_data->IPython) (2.2.1)\n",
      "Requirement already satisfied: asttokens>=2.1.0 in d:\\agentic ai\\.venv\\lib\\site-packages (from stack_data->IPython) (3.0.0)\n",
      "Requirement already satisfied: pure-eval in d:\\agentic ai\\.venv\\lib\\site-packages (from stack_data->IPython) (0.2.3)\n",
      "Note: you may need to restart the kernel to use updated packages.\n"
     ]
    },
    {
     "name": "stderr",
     "output_type": "stream",
     "text": [
      "\n",
      "[notice] A new release of pip is available: 23.1.2 -> 25.2\n",
      "[notice] To update, run: python.exe -m pip install --upgrade pip\n"
     ]
    }
   ],
   "source": [
    " \n",
    "from IPython.display import Image, display\n",
    "from langgraph.graph  import  StateGraph,START,END"
   ]
  },
  {
   "cell_type": "markdown",
   "id": "32b9f774",
   "metadata": {},
   "source": []
  },
  {
   "cell_type": "code",
   "execution_count": null,
   "id": "c059a7c8",
   "metadata": {},
   "outputs": [
    {
     "data": {
      "text/plain": [
       "<langgraph.graph.state.StateGraph at 0x283e2a1cb10>"
      ]
     },
     "execution_count": 7,
     "metadata": {},
     "output_type": "execute_result"
    }
   ],
   "source": [
    "graph=StateGraph(State)\n",
    "graph.add_node(\"start_play\", start_play)\n",
    "graph.add_node(\"cricket\", cricket)\n",
    "graph.add_node(\"football\", football)  \n",
    "graph.add_edge(START,\"start_play\")\n",
    "\n",
    "graph.add_conditional_edges(\"start_play\", random_play)\n",
    "graph.add_edge(\"cricket\",END)\n",
    "graph.add_edge(\"football\",END)\n"
   ]
  },
  {
   "cell_type": "code",
   "execution_count": null,
   "id": "a32526c4",
   "metadata": {},
   "outputs": [],
   "source": []
  }
 ],
 "metadata": {
  "kernelspec": {
   "display_name": ".venv",
   "language": "python",
   "name": "python3"
  },
  "language_info": {
   "codemirror_mode": {
    "name": "ipython",
    "version": 3
   },
   "file_extension": ".py",
   "mimetype": "text/x-python",
   "name": "python",
   "nbconvert_exporter": "python",
   "pygments_lexer": "ipython3",
   "version": "3.11.4"
  }
 },
 "nbformat": 4,
 "nbformat_minor": 5
}
